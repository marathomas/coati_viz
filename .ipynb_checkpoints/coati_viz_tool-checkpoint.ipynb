{
 "cells": [
  {
   "cell_type": "code",
   "execution_count": 1,
   "metadata": {},
   "outputs": [],
   "source": [
    "import pandas as pd\n",
    "import numpy as np\n",
    "import pickle\n",
    "import matplotlib.pyplot as plt\n",
    "import matplotlib\n",
    "import plotly.graph_objs as go\n",
    "import plotly\n",
    "import os\n",
    "import seaborn as sns\n",
    "from plotly.graph_objs import *\n",
    "from ipywidgets import Image, HTML, Layout, Output, VBox, HBox\n",
    "from IPython.display import Audio, display"
   ]
  },
  {
   "cell_type": "code",
   "execution_count": 2,
   "metadata": {},
   "outputs": [],
   "source": [
    "IMAGES_FOLDER = 'spec_images/'"
   ]
  },
  {
   "cell_type": "code",
   "execution_count": 3,
   "metadata": {},
   "outputs": [],
   "source": [
    "df_list=[]\n",
    "\n",
    "for i in range(1,5):\n",
    "    check = pd.read_json('data/nfile'+str(i)+'.json', orient ='split', compression = 'infer')\n",
    "    df_list.append(check)\n",
    "\n",
    "df = pd.concat(df_list)"
   ]
  },
  {
   "cell_type": "code",
   "execution_count": 4,
   "metadata": {},
   "outputs": [],
   "source": [
    "image_data = {}\n",
    "for img_filename in os.listdir(IMAGES_FOLDER):\n",
    "    img_id = img_filename.split('.')[0]\n",
    "    with open(IMAGES_FOLDER+img_filename, 'rb') as f:\n",
    "        b = f.read()\n",
    "        image_data[img_id] = b"
   ]
  },
  {
   "cell_type": "code",
   "execution_count": 5,
   "metadata": {},
   "outputs": [],
   "source": [
    "raw_audio = df.raw_audio.values\n",
    "samplerate = df.sr_hz.values\n",
    "df = df.drop(columns=['raw_audio'])"
   ]
  },
  {
   "cell_type": "code",
   "execution_count": 6,
   "metadata": {},
   "outputs": [],
   "source": [
    "x, y, z = df['UMAP1'], df['UMAP2'], df['UMAP3']\n",
    "scat_labels = df['label']\n",
    "\n",
    "labeltypes = sorted(list(set(scat_labels)))\n",
    "\n",
    "# makes colors same as AVGN visualization\n",
    "distinct_colors_14 = ['#e6194b', '#3cb44b', '#ffe119', '#4363d8', '#f58231',\n",
    "                      '#911eb4', '#46f0f0', '#f032e6', '#fffac8', \n",
    "                      '#008080', '#e6beff', '#9a6324', '#000000', '#aaffc3']\n",
    "customPalette = sns.color_palette(distinct_colors_14, n_colors=len(labeltypes))\n",
    "color_dict = dict(zip(labeltypes, customPalette))\n",
    "\n",
    "c = [color_dict[val] for val in scat_labels]"
   ]
  },
  {
   "cell_type": "code",
   "execution_count": 7,
   "metadata": {},
   "outputs": [],
   "source": [
    "trace = go.Scatter3d(x=x, y=y, z=z,\n",
    "                     mode='markers',\n",
    "                     hovertext = df['label'],\n",
    "                     marker=dict(size=4,color=c,opacity=0.8))"
   ]
  },
  {
   "cell_type": "code",
   "execution_count": 9,
   "metadata": {},
   "outputs": [
    {
     "name": "stderr",
     "output_type": "stream",
     "text": [
      "/Users/marathomas/opt/anaconda3/lib/python3.7/site-packages/plotly/graph_objs/_deprecations.py:494: DeprecationWarning: plotly.graph_objs.Scene is deprecated.\n",
      "Please replace it with one of the following more specific types\n",
      "  - plotly.graph_objs.layout.Scene\n",
      "\n",
      "  DeprecationWarning,\n"
     ]
    }
   ],
   "source": [
    "data=[trace]\n",
    "\n",
    "layout = go.Layout(scene=Scene(\n",
    "                      xaxis=plotly.graph_objs.layout.scene.XAxis(title='UMAP1'),\n",
    "                      yaxis=plotly.graph_objs.layout.scene.YAxis(title='UMAP2'),\n",
    "                      zaxis=plotly.graph_objs.layout.scene.ZAxis(title='UMAP3')),\n",
    "                  height = 700,\n",
    "                  width = 700)\n",
    "\n",
    "figure = go.Figure(data=data, layout=layout)\n",
    "\n",
    "fig = go.FigureWidget(figure)"
   ]
  },
  {
   "cell_type": "code",
   "execution_count": 10,
   "metadata": {},
   "outputs": [],
   "source": [
    "scatter = fig.data[0]\n",
    "\n",
    "scatter.text = df['index_id']\n",
    "scatter.hoverinfo = 'text'"
   ]
  },
  {
   "cell_type": "code",
   "execution_count": 11,
   "metadata": {},
   "outputs": [],
   "source": [
    "details = HTML()"
   ]
  },
  {
   "cell_type": "code",
   "execution_count": 12,
   "metadata": {},
   "outputs": [],
   "source": [
    "image_widget = Image(\n",
    "    value=image_data['20'],\n",
    "    layout=Layout(height='252px', width='400px')\n",
    ")"
   ]
  },
  {
   "cell_type": "code",
   "execution_count": 13,
   "metadata": {},
   "outputs": [],
   "source": [
    "def play_audio(ind):\n",
    "    display(Audio(raw_audio[ind], rate=samplerate[ind], autoplay=True))\n",
    "    \n",
    "audio_widget = Output()\n",
    "audio_widget.layout.visibility = 'hidden'\n",
    "\n",
    "\n",
    "def hover_fn(trace, points, state):\n",
    "\n",
    "    ind = points.point_inds[0]\n",
    "    \n",
    "    # Update details HTML widget\n",
    "    details.value = df.iloc[ind][['UMAP1', 'UMAP2', 'UMAP3', 'start', 'label', 'index_id']].to_frame().to_html()\n",
    "    \n",
    "    # Update image widget\n",
    "    img_ind = df.iloc[ind]['index_id']\n",
    "    image_widget.value = image_data[str(img_ind)]   \n",
    "\n",
    "scatter.on_hover(hover_fn)\n",
    "\n",
    "# play sound on click\n",
    "def click_fn(trace, points, selector):\n",
    "\n",
    "    ind = points.point_inds[0]\n",
    "    with audio_widget:\n",
    "        play_audio(ind)\n",
    "\n",
    "scatter.on_click(click_fn)"
   ]
  },
  {
   "cell_type": "code",
   "execution_count": 14,
   "metadata": {},
   "outputs": [
    {
     "data": {
      "application/vnd.jupyter.widget-view+json": {
       "model_id": "75c006954e824ba987f4a4c904468477",
       "version_major": 2,
       "version_minor": 0
      },
      "text/plain": [
       "HBox(children=(VBox(children=(HTML(value=''), Image(value=b'\\xff\\xd8\\xff\\xe0\\x00\\x10JFIF\\x00\\x01\\x01\\x01\\x00H\\…"
      ]
     },
     "metadata": {},
     "output_type": "display_data"
    }
   ],
   "source": [
    "HBox([\n",
    "      VBox([details, image_widget, audio_widget]),\n",
    "    fig])"
   ]
  },
  {
   "cell_type": "code",
   "execution_count": null,
   "metadata": {},
   "outputs": [],
   "source": []
  }
 ],
 "metadata": {
  "kernelspec": {
   "display_name": "Python 3",
   "language": "python",
   "name": "python3"
  },
  "language_info": {
   "codemirror_mode": {
    "name": "ipython",
    "version": 3
   },
   "file_extension": ".py",
   "mimetype": "text/x-python",
   "name": "python",
   "nbconvert_exporter": "python",
   "pygments_lexer": "ipython3",
   "version": "3.7.4"
  }
 },
 "nbformat": 4,
 "nbformat_minor": 2
}
