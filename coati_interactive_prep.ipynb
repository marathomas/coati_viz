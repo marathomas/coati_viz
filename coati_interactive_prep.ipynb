{
 "cells": [
  {
   "cell_type": "code",
   "execution_count": 1,
   "metadata": {},
   "outputs": [],
   "source": [
    "import pandas as pd\n",
    "import numpy as np\n",
    "import pickle\n",
    "import matplotlib.pyplot as plt\n",
    "import matplotlib\n",
    "import plotly.graph_objs as go\n",
    "import plotly\n",
    "import os\n",
    "import seaborn as sns\n",
    "from plotly.graph_objs import *\n",
    "from ipywidgets import Image, HTML, Layout, Output, VBox, HBox\n",
    "from IPython.display import Audio, display"
   ]
  },
  {
   "cell_type": "code",
   "execution_count": 3,
   "metadata": {},
   "outputs": [],
   "source": [
    "import imageio\n",
    "#import PIL\n",
    "from PIL import Image, ImageEnhance, ImageFilter\n",
    "#!pip install librosa==0.7.1\n",
    "import librosa\n",
    "import librosa.display\n",
    "import pylab"
   ]
  },
  {
   "cell_type": "code",
   "execution_count": 8,
   "metadata": {},
   "outputs": [],
   "source": [
    "PROJECT_HOME = '/Users/marathomas/Documents/Bioinformatik/Masterarbeit/Unsup_clustering/coati_downsample/'\n",
    "IMAGES_FOLDER = PROJECT_HOME+'spec_images/'\n",
    "DATA_FOLDER = PROJECT_HOME+'data/'"
   ]
  },
  {
   "cell_type": "code",
   "execution_count": 13,
   "metadata": {},
   "outputs": [
    {
     "name": "stdout",
     "output_type": "stream",
     "text": [
      "data/ds1.json\n",
      "data/ds2.json\n",
      "data/ds3.json\n"
     ]
    }
   ],
   "source": [
    "os.chdir(PROJECT_HOME)\n",
    "\n",
    "df_list=[]\n",
    "\n",
    "for i in range(1,4):\n",
    "    check = pd.read_json('data/ds'+str(i)+'.json', orient ='split', compression = 'infer')\n",
    "    print('data/ds'+str(i)+'.json')\n",
    "    df_list.append(check)\n",
    "\n",
    "df = pd.concat(df_list)"
   ]
  },
  {
   "cell_type": "code",
   "execution_count": 14,
   "metadata": {},
   "outputs": [
    {
     "data": {
      "text/plain": [
       "(2033, 13)"
      ]
     },
     "execution_count": 14,
     "metadata": {},
     "output_type": "execute_result"
    }
   ],
   "source": [
    "df.shape"
   ]
  },
  {
   "cell_type": "code",
   "execution_count": 15,
   "metadata": {},
   "outputs": [
    {
     "data": {
      "text/html": [
       "<div>\n",
       "<style scoped>\n",
       "    .dataframe tbody tr th:only-of-type {\n",
       "        vertical-align: middle;\n",
       "    }\n",
       "\n",
       "    .dataframe tbody tr th {\n",
       "        vertical-align: top;\n",
       "    }\n",
       "\n",
       "    .dataframe thead th {\n",
       "        text-align: right;\n",
       "    }\n",
       "</style>\n",
       "<table border=\"1\" class=\"dataframe\">\n",
       "  <thead>\n",
       "    <tr style=\"text-align: right;\">\n",
       "      <th></th>\n",
       "      <th>Name</th>\n",
       "      <th>Start</th>\n",
       "      <th>samplerate_hz</th>\n",
       "      <th>duration_s</th>\n",
       "      <th>start_s</th>\n",
       "      <th>raw_audio</th>\n",
       "      <th>denoised_spectrograms</th>\n",
       "      <th>indv</th>\n",
       "      <th>label</th>\n",
       "      <th>index_id</th>\n",
       "      <th>UMAP1</th>\n",
       "      <th>UMAP2</th>\n",
       "      <th>UMAP3</th>\n",
       "    </tr>\n",
       "  </thead>\n",
       "  <tbody>\n",
       "    <tr>\n",
       "      <td>109</td>\n",
       "      <td>grunt</td>\n",
       "      <td>2:48:58.745</td>\n",
       "      <td>22050</td>\n",
       "      <td>0.080</td>\n",
       "      <td>10138.745</td>\n",
       "      <td>[-0.00390625, -0.00390625, -0.005859375, -0.00...</td>\n",
       "      <td>[[21.1363868713, 20.6111793518, 23.7496910095,...</td>\n",
       "      <td>6887</td>\n",
       "      <td>grunt</td>\n",
       "      <td>109</td>\n",
       "      <td>9.670739</td>\n",
       "      <td>4.418707</td>\n",
       "      <td>2.416416</td>\n",
       "    </tr>\n",
       "    <tr>\n",
       "      <td>110</td>\n",
       "      <td>grunt</td>\n",
       "      <td>3:18:50.647</td>\n",
       "      <td>22050</td>\n",
       "      <td>0.031</td>\n",
       "      <td>11930.647</td>\n",
       "      <td>[0.013671875, 0.01171875, 0.0078125, 0.015625,...</td>\n",
       "      <td>[[9.191781044, 7.8991680145, 5.7343931198, 2.7...</td>\n",
       "      <td>6887</td>\n",
       "      <td>grunt</td>\n",
       "      <td>110</td>\n",
       "      <td>11.735151</td>\n",
       "      <td>5.220063</td>\n",
       "      <td>4.854806</td>\n",
       "    </tr>\n",
       "    <tr>\n",
       "      <td>609</td>\n",
       "      <td>chirp</td>\n",
       "      <td>5:48.635</td>\n",
       "      <td>22050</td>\n",
       "      <td>0.079</td>\n",
       "      <td>348.635</td>\n",
       "      <td>[0.017578125, 0.017578125, 0.005859375, 0.0136...</td>\n",
       "      <td>[[16.8022613525, 15.9717550278, 14.6228752136,...</td>\n",
       "      <td>6887</td>\n",
       "      <td>chirp</td>\n",
       "      <td>609</td>\n",
       "      <td>9.091060</td>\n",
       "      <td>4.764462</td>\n",
       "      <td>2.464877</td>\n",
       "    </tr>\n",
       "    <tr>\n",
       "      <td>610</td>\n",
       "      <td>chirp</td>\n",
       "      <td>5:53.450</td>\n",
       "      <td>22050</td>\n",
       "      <td>0.079</td>\n",
       "      <td>353.450</td>\n",
       "      <td>[-0.0078125, -0.02734375, 0.0078125, -0.041015...</td>\n",
       "      <td>[[5.6005115509, 6.254076004, 6.4096355438, 5.6...</td>\n",
       "      <td>6887</td>\n",
       "      <td>chirp</td>\n",
       "      <td>610</td>\n",
       "      <td>9.580486</td>\n",
       "      <td>5.062622</td>\n",
       "      <td>3.355001</td>\n",
       "    </tr>\n",
       "    <tr>\n",
       "      <td>611</td>\n",
       "      <td>chirp</td>\n",
       "      <td>5:56.069</td>\n",
       "      <td>22050</td>\n",
       "      <td>0.135</td>\n",
       "      <td>356.069</td>\n",
       "      <td>[-0.044921875, -0.029296875000000003, -0.02148...</td>\n",
       "      <td>[[15.1517496109, 11.6087598801, 8.7584705353, ...</td>\n",
       "      <td>6887</td>\n",
       "      <td>chirp</td>\n",
       "      <td>611</td>\n",
       "      <td>10.634771</td>\n",
       "      <td>4.980813</td>\n",
       "      <td>5.306195</td>\n",
       "    </tr>\n",
       "  </tbody>\n",
       "</table>\n",
       "</div>"
      ],
      "text/plain": [
       "      Name        Start  samplerate_hz  duration_s    start_s  \\\n",
       "109  grunt  2:48:58.745          22050       0.080  10138.745   \n",
       "110  grunt  3:18:50.647          22050       0.031  11930.647   \n",
       "609  chirp     5:48.635          22050       0.079    348.635   \n",
       "610  chirp     5:53.450          22050       0.079    353.450   \n",
       "611  chirp     5:56.069          22050       0.135    356.069   \n",
       "\n",
       "                                             raw_audio  \\\n",
       "109  [-0.00390625, -0.00390625, -0.005859375, -0.00...   \n",
       "110  [0.013671875, 0.01171875, 0.0078125, 0.015625,...   \n",
       "609  [0.017578125, 0.017578125, 0.005859375, 0.0136...   \n",
       "610  [-0.0078125, -0.02734375, 0.0078125, -0.041015...   \n",
       "611  [-0.044921875, -0.029296875000000003, -0.02148...   \n",
       "\n",
       "                                 denoised_spectrograms  indv  label  index_id  \\\n",
       "109  [[21.1363868713, 20.6111793518, 23.7496910095,...  6887  grunt       109   \n",
       "110  [[9.191781044, 7.8991680145, 5.7343931198, 2.7...  6887  grunt       110   \n",
       "609  [[16.8022613525, 15.9717550278, 14.6228752136,...  6887  chirp       609   \n",
       "610  [[5.6005115509, 6.254076004, 6.4096355438, 5.6...  6887  chirp       610   \n",
       "611  [[15.1517496109, 11.6087598801, 8.7584705353, ...  6887  chirp       611   \n",
       "\n",
       "         UMAP1     UMAP2     UMAP3  \n",
       "109   9.670739  4.418707  2.416416  \n",
       "110  11.735151  5.220063  4.854806  \n",
       "609   9.091060  4.764462  2.464877  \n",
       "610   9.580486  5.062622  3.355001  \n",
       "611  10.634771  4.980813  5.306195  "
      ]
     },
     "execution_count": 15,
     "metadata": {},
     "output_type": "execute_result"
    }
   ],
   "source": [
    "df.head()"
   ]
  },
  {
   "cell_type": "code",
   "execution_count": 16,
   "metadata": {},
   "outputs": [],
   "source": [
    "IMAGES_FOLDER = 'spec_images/'"
   ]
  },
  {
   "cell_type": "code",
   "execution_count": 17,
   "metadata": {},
   "outputs": [],
   "source": [
    "SR = 22050\n",
    "FFT_WIN = 0.03 # FFT_WIN*samplerate = length of fft/n_fft (number of audio frames that go in one fft)\n",
    "FFT_HOP = FFT_WIN/8 # FFT_HOP*samplerate = n of audio frames between successive ffts\n",
    "FMAX = SR/2\n",
    "\n",
    "def make_img(spec,id):\n",
    "    outname = str(id)+\".jpg\"    \n",
    "    librosa.display.specshow(spec,sr=SR, hop_length=int(FFT_HOP * SR) , fmax=FMAX, y_axis='mel', x_axis='s',cmap='inferno')\n",
    "    pylab.savefig(outname, bbox_inches=None, pad_inches=0)\n",
    "    pylab.close()\n",
    "    #plt.imshow(spec, interpolation='nearest', aspect='equal')\n",
    "    #plt.savefig(outname)"
   ]
  },
  {
   "cell_type": "code",
   "execution_count": 21,
   "metadata": {},
   "outputs": [
    {
     "data": {
      "image/png": "[encoded data removed]",
      "text/plain": [
       "<Figure size 432x288 with 1 Axes>"
      ]
     },
     "metadata": {
      "needs_background": "light"
     },
     "output_type": "display_data"
    }
   ],
   "source": [
    "#os.chdir(IMAGES_FOLDER)\n",
    "spec = np.asarray(df.iloc[2,6])\n",
    "librosa.display.specshow(spec,sr=SR, hop_length=int(FFT_HOP * SR) , fmax=FMAX, y_axis='mel', x_axis='s',cmap='inferno')\n",
    "pylab.savefig('example.jpg', bbox_inches=None, pad_inches=0)"
   ]
  },
  {
   "cell_type": "code",
   "execution_count": 23,
   "metadata": {},
   "outputs": [],
   "source": [
    "os.chdir(IMAGES_FOLDER)\n",
    "x = df.apply(lambda row: make_img(np.asarray(row['denoised_spectrograms']),row['index_id']), axis=1)"
   ]
  }
 ],
 "metadata": {
  "kernelspec": {
   "display_name": "Python 3",
   "language": "python",
   "name": "python3"
  },
  "language_info": {
   "codemirror_mode": {
    "name": "ipython",
    "version": 3
   },
   "file_extension": ".py",
   "mimetype": "text/x-python",
   "name": "python",
   "nbconvert_exporter": "python",
   "pygments_lexer": "ipython3",
   "version": "3.7.4"
  }
 },
 "nbformat": 4,
 "nbformat_minor": 2
}
